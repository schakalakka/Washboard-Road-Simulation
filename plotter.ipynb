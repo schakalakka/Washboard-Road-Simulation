{
 "cells": [
  {
   "cell_type": "code",
   "execution_count": 1,
   "metadata": {},
   "outputs": [],
   "source": [
    "import matplotlib.pyplot as plt\n",
    "import numpy as np\n"
   ]
  },
  {
   "cell_type": "code",
   "execution_count": 20,
   "metadata": {},
   "outputs": [],
   "source": [
    "param_list = [('csv/alpha-0.csv', 0), ('csv/alpha-01.csv', 0.1), ('csv/alpha-05.csv', 0.5), ('csv/alpha-07.csv', 0.7),\n",
    "              ('csv/alpha-1.csv', 1),('csv/alpha-1000.csv', 1000) ]\n",
    "parameter_name = 'alpha'\n",
    "\n",
    "foo = [np.genfromtxt(csv_filename, delimiter=',', dtype=int, skip_header=1, usecols=1) for csv_filename, _ in\n",
    "       param_list]\n",
    "# param_name, _ = csv_filename.split('/')[1].split('.')[0].split('-')\n",
    "plt.clf()\n",
    "\n",
    "f, (ax1, ax2, ax3, ax4, ax5, ax6) = plt.subplots(6, sharex=True, sharey=True)\n",
    "ax1.plot(foo[0], color='C0')\n",
    "ax1.set_title('alpha=0', x=1.01, y=0, color='C0')\n",
    "ax2.plot(foo[1], color='C1')\n",
    "ax2.set_title('alpha=0.1', x=1.01, y=0, color='C1')\n",
    "ax3.plot(foo[2], color='C2')\n",
    "ax3.set_title('alpha=0.5', x=1.01, y=0, color='C2')\n",
    "ax4.plot(foo[3], color='C3')\n",
    "ax4.set_title('alpha=0.7', x=1.01, y=0, color='C3')\n",
    "ax5.plot(foo[4], color='C4')\n",
    "ax5.set_title('alpha=1', x=1.01, y=0, color='C4')\n",
    "ax6.plot(foo[5], color='C5')\n",
    "ax6.set_title('alpha=1000', x=1.01, y=0, color='C5')\n",
    "\n",
    "f.subplots_adjust(hspace=0)\n",
    "plt.setp([a.get_xticklabels() for a in f.axes[:-1]], visible=False)\n",
    "filename = f'plots/{parameter_name}-subplots.png'\n",
    "\n",
    "# plt.axis([0, len(foo), 0, max(foo)+5])\n",
    "plt.savefig(filename, dpi=900, format='png')\n",
    "# plt.show()\n"
   ]
  },
  {
   "cell_type": "code",
   "execution_count": 16,
   "metadata": {},
   "outputs": [],
   "source": [
    "param_list = [('csv/less-smoothingalpha-0.csv', 0), ('csv/less-smoothingalpha-01.csv', 0.1), ('csv/less-smoothingalpha-05.csv', 0.5), ('csv/less-smoothingalpha-07.csv', 0.7),\n",
    "              ('csv/less-smoothingalpha-1.csv', 1)]#, ('csv/less-smoothingalpha-1000.csv', 1000)]\n",
    "parameter_name = 'alpha_less_smoothing'\n",
    "\n",
    "foo = [np.genfromtxt(csv_filename, delimiter=',', dtype=int, skip_header=1, usecols=1) for csv_filename, _ in\n",
    "       param_list]\n",
    "# param_name, _ = csv_filename.split('/')[1].split('.')[0].split('-')\n",
    "plt.clf()\n",
    "\n",
    "f, (ax1, ax2, ax3, ax4, ax5) = plt.subplots(5, sharex=True, sharey=True)\n",
    "ax1.plot(foo[0], color='C0')\n",
    "ax1.set_title('alpha=0', x=1.01, y=0, color='C0')\n",
    "ax2.plot(foo[1], color='C1')\n",
    "ax2.set_title('alpha=0.1', x=1.01, y=0, color='C1')\n",
    "ax3.plot(foo[2], color='C2')\n",
    "ax3.set_title('alpha=0.5', x=1.01, y=0, color='C2')\n",
    "ax4.plot(foo[3], color='C3')\n",
    "ax4.set_title('alpha=0.7', x=1.01, y=0, color='C3')\n",
    "ax5.plot(foo[4], color='C4')\n",
    "ax5.set_title('alpha=1', x=1.01, y=0, color='C4')\n",
    "# ax6.plot(foo[5], color='C4')\n",
    "# ax6.set_title('alpha=1000', x=1.01, y=0, color='C5')\n",
    "\n",
    "f.subplots_adjust(hspace=0)\n",
    "plt.setp([a.get_xticklabels() for a in f.axes[:-1]], visible=False)\n",
    "filename = f'plots/{parameter_name}-subplots.png'\n",
    "\n",
    "# plt.axis([0, len(foo), 0, max(foo)+5])\n",
    "plt.savefig(filename, dpi=900, format='png')\n",
    "# plt.show()\n"
   ]
  },
  {
   "cell_type": "code",
   "execution_count": null,
   "metadata": {},
   "outputs": [],
   "source": []
  }
 ],
 "metadata": {
  "kernelspec": {
   "display_name": "Python 3",
   "language": "python",
   "name": "python3"
  },
  "language_info": {
   "codemirror_mode": {
    "name": "ipython",
    "version": 3
   },
   "file_extension": ".py",
   "mimetype": "text/x-python",
   "name": "python",
   "nbconvert_exporter": "python",
   "pygments_lexer": "ipython3",
   "version": "3.6.4"
  }
 },
 "nbformat": 4,
 "nbformat_minor": 1
}
